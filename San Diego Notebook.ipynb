{
    "cells": [
        {
            "cell_type": "code",
            "execution_count": 18,
            "metadata": {},
            "outputs": [],
            "source": "# import dependencies\n\nimport pandas as pd\nimport numpy as np\nfrom bs4 import BeautifulSoup\nimport requests\nfrom pandas import DataFrame"
        },
        {
            "cell_type": "code",
            "execution_count": 19,
            "metadata": {},
            "outputs": [],
            "source": "html = \"https://www.zip-codes.com/county/ca-san-diego.asp\"\ncontents = requests.get(html)\n\nsoup = BeautifulSoup(contents.content, 'lxml')\n# Need to parse through DOM to know which table to scrape\ntable = soup.find_all('table')[2]\nlists = pd.read_html(str(table))"
        },
        {
            "cell_type": "code",
            "execution_count": 20,
            "metadata": {},
            "outputs": [
                {
                    "name": "stdout",
                    "output_type": "stream",
                    "text": "Initial size of dataframe: (182, 6)\n"
                },
                {
                    "data": {
                        "text/html": "<div>\n<style scoped>\n    .dataframe tbody tr th:only-of-type {\n        vertical-align: middle;\n    }\n\n    .dataframe tbody tr th {\n        vertical-align: top;\n    }\n\n    .dataframe thead th {\n        text-align: right;\n    }\n</style>\n<table border=\"1\" class=\"dataframe\">\n  <thead>\n    <tr style=\"text-align: right;\">\n      <th></th>\n      <th>ZIP Code</th>\n      <th>Classification</th>\n      <th>City</th>\n      <th>Population</th>\n      <th>Timezone</th>\n      <th>Area Code(s)</th>\n    </tr>\n  </thead>\n  <tbody>\n    <tr>\n      <th>0</th>\n      <td>ZIP Code 91901</td>\n      <td>General</td>\n      <td>Alpine</td>\n      <td>17403</td>\n      <td>Pacific</td>\n      <td>619</td>\n    </tr>\n    <tr>\n      <th>1</th>\n      <td>ZIP Code 91902</td>\n      <td>General</td>\n      <td>Bonita</td>\n      <td>17653</td>\n      <td>Pacific</td>\n      <td>619</td>\n    </tr>\n    <tr>\n      <th>2</th>\n      <td>ZIP Code 91903</td>\n      <td>P.O. Box</td>\n      <td>Alpine</td>\n      <td>0</td>\n      <td>Pacific</td>\n      <td>619</td>\n    </tr>\n    <tr>\n      <th>3</th>\n      <td>ZIP Code 91905</td>\n      <td>General</td>\n      <td>Boulevard</td>\n      <td>1700</td>\n      <td>Pacific</td>\n      <td>619/760</td>\n    </tr>\n    <tr>\n      <th>4</th>\n      <td>ZIP Code 91906</td>\n      <td>General</td>\n      <td>Campo</td>\n      <td>3627</td>\n      <td>Pacific</td>\n      <td>619</td>\n    </tr>\n  </tbody>\n</table>\n</div>",
                        "text/plain": "0        ZIP Code Classification       City Population Timezone Area Code(s)\n0  ZIP Code 91901        General     Alpine      17403  Pacific          619\n1  ZIP Code 91902        General     Bonita      17653  Pacific          619\n2  ZIP Code 91903       P.O. Box     Alpine          0  Pacific          619\n3  ZIP Code 91905        General  Boulevard       1700  Pacific      619/760\n4  ZIP Code 91906        General      Campo       3627  Pacific          619"
                    },
                    "execution_count": 20,
                    "metadata": {},
                    "output_type": "execute_result"
                }
            ],
            "source": "website_data_df = lists[0]\nprint(f'Initial size of dataframe: {website_data_df.shape}')\n# Set column headers\nwebsite_data_df.columns = website_data_df.iloc[0]\nwebsite_data_df = website_data_df.drop(0)\n# Reset index \nwebsite_data_df = website_data_df.reset_index(drop=True)\nwebsite_data_df.head()"
        },
        {
            "cell_type": "code",
            "execution_count": 21,
            "metadata": {},
            "outputs": [
                {
                    "name": "stdout",
                    "output_type": "stream",
                    "text": "Updated size of dataframe: 106 rows and 6 columns\n"
                },
                {
                    "data": {
                        "text/html": "<div>\n<style scoped>\n    .dataframe tbody tr th:only-of-type {\n        vertical-align: middle;\n    }\n\n    .dataframe tbody tr th {\n        vertical-align: top;\n    }\n\n    .dataframe thead th {\n        text-align: right;\n    }\n</style>\n<table border=\"1\" class=\"dataframe\">\n  <thead>\n    <tr style=\"text-align: right;\">\n      <th></th>\n      <th>ZIP Code</th>\n      <th>Classification</th>\n      <th>City</th>\n      <th>Population</th>\n      <th>Timezone</th>\n      <th>Area Code(s)</th>\n    </tr>\n  </thead>\n  <tbody>\n    <tr>\n      <th>0</th>\n      <td>91901</td>\n      <td>General</td>\n      <td>Alpine</td>\n      <td>17403</td>\n      <td>Pacific</td>\n      <td>619</td>\n    </tr>\n    <tr>\n      <th>1</th>\n      <td>91902</td>\n      <td>General</td>\n      <td>Bonita</td>\n      <td>17653</td>\n      <td>Pacific</td>\n      <td>619</td>\n    </tr>\n    <tr>\n      <th>3</th>\n      <td>91905</td>\n      <td>General</td>\n      <td>Boulevard</td>\n      <td>1700</td>\n      <td>Pacific</td>\n      <td>619/760</td>\n    </tr>\n    <tr>\n      <th>4</th>\n      <td>91906</td>\n      <td>General</td>\n      <td>Campo</td>\n      <td>3627</td>\n      <td>Pacific</td>\n      <td>619</td>\n    </tr>\n    <tr>\n      <th>7</th>\n      <td>91910</td>\n      <td>General</td>\n      <td>Chula Vista</td>\n      <td>75802</td>\n      <td>Pacific</td>\n      <td>619</td>\n    </tr>\n  </tbody>\n</table>\n</div>",
                        "text/plain": "0 ZIP Code Classification         City Population Timezone Area Code(s)\n0    91901        General       Alpine      17403  Pacific          619\n1    91902        General       Bonita      17653  Pacific          619\n3    91905        General    Boulevard       1700  Pacific      619/760\n4    91906        General        Campo       3627  Pacific          619\n7    91910        General  Chula Vista      75802  Pacific          619"
                    },
                    "execution_count": 21,
                    "metadata": {},
                    "output_type": "execute_result"
                }
            ],
            "source": "# Drop Zip Codes with Population 0\nno_population = website_data_df[website_data_df[\"Population\"] == '0'].index\nwebsite_data_df.drop(no_population, inplace=True)\nprint(f'Updated size of dataframe: {website_data_df.shape[0]} rows and {website_data_df.shape[1]} columns')\n# Drop \"Zip Code\" phrase in Zip Code column\nwebsite_data_df[\"ZIP Code\"] = website_data_df[\"ZIP Code\"].str[-5:]\nwebsite_data_df.head()"
        },
        {
            "cell_type": "code",
            "execution_count": 22,
            "metadata": {},
            "outputs": [],
            "source": "import geopy\nfrom geopy.geocoders import  Nominatim\n\ngeolocator = Nominatim(user_agent=\"sd_explorer\")\n\n\nlats = []\nlongs = []\n\nfor zip in website_data_df[\"ZIP Code\"]:\n    address = zip\n    location = geolocator.geocode(address)\n    latitude = location.latitude\n    longitude = location.longitude\n    lats.append(latitude)\n    longs.append(longitude)\n\n"
        },
        {
            "cell_type": "code",
            "execution_count": 23,
            "metadata": {},
            "outputs": [],
            "source": "website_data_df[\"Latitude\"] = lats\nwebsite_data_df[\"Longitude\"] = longs"
        },
        {
            "cell_type": "code",
            "execution_count": 24,
            "metadata": {},
            "outputs": [
                {
                    "data": {
                        "text/html": "<div>\n<style scoped>\n    .dataframe tbody tr th:only-of-type {\n        vertical-align: middle;\n    }\n\n    .dataframe tbody tr th {\n        vertical-align: top;\n    }\n\n    .dataframe thead th {\n        text-align: right;\n    }\n</style>\n<table border=\"1\" class=\"dataframe\">\n  <thead>\n    <tr style=\"text-align: right;\">\n      <th></th>\n      <th>ZIP Code</th>\n      <th>Classification</th>\n      <th>City</th>\n      <th>Population</th>\n      <th>Timezone</th>\n      <th>Area Code(s)</th>\n      <th>Latitude</th>\n      <th>Longitude</th>\n    </tr>\n  </thead>\n  <tbody>\n    <tr>\n      <th>0</th>\n      <td>91901</td>\n      <td>General</td>\n      <td>Alpine</td>\n      <td>17403</td>\n      <td>Pacific</td>\n      <td>619</td>\n      <td>48.414003</td>\n      <td>17.491107</td>\n    </tr>\n    <tr>\n      <th>1</th>\n      <td>91902</td>\n      <td>General</td>\n      <td>Bonita</td>\n      <td>17653</td>\n      <td>Pacific</td>\n      <td>619</td>\n      <td>32.666379</td>\n      <td>-117.022725</td>\n    </tr>\n    <tr>\n      <th>3</th>\n      <td>91905</td>\n      <td>General</td>\n      <td>Boulevard</td>\n      <td>1700</td>\n      <td>Pacific</td>\n      <td>619/760</td>\n      <td>32.662786</td>\n      <td>-116.312998</td>\n    </tr>\n    <tr>\n      <th>4</th>\n      <td>91906</td>\n      <td>General</td>\n      <td>Campo</td>\n      <td>3627</td>\n      <td>Pacific</td>\n      <td>619</td>\n      <td>32.662692</td>\n      <td>-116.481502</td>\n    </tr>\n    <tr>\n      <th>7</th>\n      <td>91910</td>\n      <td>General</td>\n      <td>Chula Vista</td>\n      <td>75802</td>\n      <td>Pacific</td>\n      <td>619</td>\n      <td>48.534285</td>\n      <td>2.181133</td>\n    </tr>\n  </tbody>\n</table>\n</div>",
                        "text/plain": "0 ZIP Code Classification         City Population Timezone Area Code(s)  \\\n0    91901        General       Alpine      17403  Pacific          619   \n1    91902        General       Bonita      17653  Pacific          619   \n3    91905        General    Boulevard       1700  Pacific      619/760   \n4    91906        General        Campo       3627  Pacific          619   \n7    91910        General  Chula Vista      75802  Pacific          619   \n\n0   Latitude   Longitude  \n0  48.414003   17.491107  \n1  32.666379 -117.022725  \n3  32.662786 -116.312998  \n4  32.662692 -116.481502  \n7  48.534285    2.181133  "
                    },
                    "execution_count": 24,
                    "metadata": {},
                    "output_type": "execute_result"
                }
            ],
            "source": "website_data_df.head()"
        },
        {
            "cell_type": "code",
            "execution_count": 25,
            "metadata": {},
            "outputs": [
                {
                    "name": "stdout",
                    "output_type": "stream",
                    "text": "Solving environment: done\n\n# All requested packages already installed.\n\n"
                }
            ],
            "source": "# Install and import folium as map rendering library\n!conda install -c conda-forge folium=0.5.0 --yes\nimport folium\n\n# Matplotlib and associated plotting modules\nimport matplotlib.cm as cm\nimport matplotlib.colors as colors\n\n# Import k-means from clustering stage from SciKit-Learn\n\nfrom sklearn.cluster import KMeans"
        },
        {
            "cell_type": "code",
            "execution_count": 40,
            "metadata": {},
            "outputs": [
                {
                    "ename": "TypeError",
                    "evalue": "'str' object is not callable",
                    "output_type": "error",
                    "traceback": [
                        "\u001b[0;31m---------------------------------------------------------------------------\u001b[0m",
                        "\u001b[0;31mTypeError\u001b[0m                                 Traceback (most recent call last)",
                        "\u001b[0;32m<ipython-input-40-c01d13f79800>\u001b[0m in \u001b[0;36m<module>\u001b[0;34m\u001b[0m\n\u001b[1;32m      1\u001b[0m zip(website_data_df[\"Latitude\"], \n\u001b[0;32m----> 2\u001b[0;31m     \u001b[0mwebsite_data_df\u001b[0m\u001b[0;34m[\u001b[0m\u001b[0;34m\"Longitude\"\u001b[0m\u001b[0;34m]\u001b[0m\u001b[0;34m,\u001b[0m\u001b[0;34m\u001b[0m\u001b[0;34m\u001b[0m\u001b[0m\n\u001b[0m\u001b[1;32m      3\u001b[0m \u001b[0;31m#     website_data_df[\"ZIP Code\"],\u001b[0m\u001b[0;34m\u001b[0m\u001b[0;34m\u001b[0m\u001b[0;34m\u001b[0m\u001b[0m\n\u001b[1;32m      4\u001b[0m \u001b[0;31m#     website_data_df[\"City\"]\u001b[0m\u001b[0;34m\u001b[0m\u001b[0;34m\u001b[0m\u001b[0;34m\u001b[0m\u001b[0m\n\u001b[1;32m      5\u001b[0m    )\n",
                        "\u001b[0;31mTypeError\u001b[0m: 'str' object is not callable"
                    ]
                }
            ],
            "source": "zip(website_data_df[\"Latitude\"], \n    website_data_df[\"Longitude\"], \n#     website_data_df[\"ZIP Code\"], \n#     website_data_df[\"City\"]\n   )"
        },
        {
            "cell_type": "code",
            "execution_count": 33,
            "metadata": {},
            "outputs": [
                {
                    "ename": "TypeError",
                    "evalue": "'str' object is not callable",
                    "output_type": "error",
                    "traceback": [
                        "\u001b[0;31m---------------------------------------------------------------------------\u001b[0m",
                        "\u001b[0;31mTypeError\u001b[0m                                 Traceback (most recent call last)",
                        "\u001b[0;32m<ipython-input-33-b353346b93ce>\u001b[0m in \u001b[0;36m<module>\u001b[0;34m\u001b[0m\n\u001b[1;32m      5\u001b[0m \u001b[0;34m\u001b[0m\u001b[0m\n\u001b[1;32m      6\u001b[0m \u001b[0;31m# add markers to map\u001b[0m\u001b[0;34m\u001b[0m\u001b[0;34m\u001b[0m\u001b[0;34m\u001b[0m\u001b[0m\n\u001b[0;32m----> 7\u001b[0;31m \u001b[0;32mfor\u001b[0m \u001b[0mlat\u001b[0m\u001b[0;34m,\u001b[0m \u001b[0mlong\u001b[0m\u001b[0;34m,\u001b[0m \u001b[0mcode\u001b[0m\u001b[0;34m,\u001b[0m \u001b[0mcity\u001b[0m \u001b[0;32min\u001b[0m \u001b[0mzip\u001b[0m\u001b[0;34m(\u001b[0m\u001b[0mwebsite_data_df\u001b[0m\u001b[0;34m[\u001b[0m\u001b[0;34m\"Latitude\"\u001b[0m\u001b[0;34m]\u001b[0m\u001b[0;34m,\u001b[0m \u001b[0mwebsite_data_df\u001b[0m\u001b[0;34m[\u001b[0m\u001b[0;34m\"Longitude\"\u001b[0m\u001b[0;34m]\u001b[0m\u001b[0;34m,\u001b[0m \u001b[0mwebsite_data_df\u001b[0m\u001b[0;34m[\u001b[0m\u001b[0;34m\"ZIP Code\"\u001b[0m\u001b[0;34m]\u001b[0m\u001b[0;34m,\u001b[0m \u001b[0mwebsite_data_df\u001b[0m\u001b[0;34m[\u001b[0m\u001b[0;34m\"City\"\u001b[0m\u001b[0;34m]\u001b[0m\u001b[0;34m)\u001b[0m\u001b[0;34m:\u001b[0m\u001b[0;34m\u001b[0m\u001b[0;34m\u001b[0m\u001b[0m\n\u001b[0m\u001b[1;32m      8\u001b[0m     \u001b[0mlabel\u001b[0m \u001b[0;34m=\u001b[0m \u001b[0;34m'{}, {}'\u001b[0m\u001b[0;34m.\u001b[0m\u001b[0mformat\u001b[0m\u001b[0;34m(\u001b[0m\u001b[0mcode\u001b[0m\u001b[0;34m,\u001b[0m \u001b[0mcity\u001b[0m\u001b[0;34m)\u001b[0m\u001b[0;34m\u001b[0m\u001b[0;34m\u001b[0m\u001b[0m\n\u001b[1;32m      9\u001b[0m     \u001b[0mlabel\u001b[0m \u001b[0;34m=\u001b[0m \u001b[0mfolium\u001b[0m\u001b[0;34m.\u001b[0m\u001b[0mPopup\u001b[0m\u001b[0;34m(\u001b[0m\u001b[0mlabel\u001b[0m\u001b[0;34m,\u001b[0m \u001b[0mparse_html\u001b[0m\u001b[0;34m=\u001b[0m\u001b[0;32mTrue\u001b[0m\u001b[0;34m)\u001b[0m\u001b[0;34m\u001b[0m\u001b[0;34m\u001b[0m\u001b[0m\n",
                        "\u001b[0;31mTypeError\u001b[0m: 'str' object is not callable"
                    ]
                }
            ],
            "source": "sd_lat = 32.715736\nsd_long = -117.161087\n\nmap_sd = folium.Map(location=[sd_lat, sd_long], zoom_start = 11)\n\n# add markers to map\nfor lat, long, code, city in zip(website_data_df[\"Latitude\"], website_data_df[\"Longitude\"], website_data_df[\"ZIP Code\"], website_data_df[\"City\"]):\n    label = '{}, {}'.format(code, city)\n    label = folium.Popup(label, parse_html=True)\n    folium.CircleMarker(\n        [lat, long],\n        radius=5,\n        popup=label,\n        color='blue',\n        fill=True,\n        fill_color='#3186cc',\n        fill_opacity=0.7,\n        parse_html=False).add_to(map_sd)\n\nmap_sd"
        },
        {
            "cell_type": "code",
            "execution_count": null,
            "metadata": {},
            "outputs": [],
            "source": ""
        }
    ],
    "metadata": {
        "kernelspec": {
            "display_name": "Python 3.6",
            "language": "python",
            "name": "python3"
        },
        "language_info": {
            "codemirror_mode": {
                "name": "ipython",
                "version": 3
            },
            "file_extension": ".py",
            "mimetype": "text/x-python",
            "name": "python",
            "nbconvert_exporter": "python",
            "pygments_lexer": "ipython3",
            "version": "3.6.9"
        }
    },
    "nbformat": 4,
    "nbformat_minor": 1
}