{
    "cells": [
        {
            "cell_type": "code",
            "execution_count": 1,
            "metadata": {},
            "outputs": [],
            "source": "# import dependencies\n\nimport pandas as pd\nimport numpy as np\nfrom bs4 import BeautifulSoup\nimport requests\nfrom pandas import DataFrame"
        },
        {
            "cell_type": "code",
            "execution_count": 6,
            "metadata": {},
            "outputs": [
                {
                    "name": "stdout",
                    "output_type": "stream",
                    "text": "Initial size of dataframe: (182, 6)\n"
                },
                {
                    "data": {
                        "text/html": "<div>\n<style scoped>\n    .dataframe tbody tr th:only-of-type {\n        vertical-align: middle;\n    }\n\n    .dataframe tbody tr th {\n        vertical-align: top;\n    }\n\n    .dataframe thead th {\n        text-align: right;\n    }\n</style>\n<table border=\"1\" class=\"dataframe\">\n  <thead>\n    <tr style=\"text-align: right;\">\n      <th></th>\n      <th>0</th>\n      <th>1</th>\n      <th>2</th>\n      <th>3</th>\n      <th>4</th>\n      <th>5</th>\n    </tr>\n  </thead>\n  <tbody>\n    <tr>\n      <th>0</th>\n      <td>ZIP Code</td>\n      <td>Classification</td>\n      <td>City</td>\n      <td>Population</td>\n      <td>Timezone</td>\n      <td>Area Code(s)</td>\n    </tr>\n    <tr>\n      <th>1</th>\n      <td>ZIP Code 91901</td>\n      <td>General</td>\n      <td>Alpine</td>\n      <td>17403</td>\n      <td>Pacific</td>\n      <td>619</td>\n    </tr>\n    <tr>\n      <th>2</th>\n      <td>ZIP Code 91902</td>\n      <td>General</td>\n      <td>Bonita</td>\n      <td>17653</td>\n      <td>Pacific</td>\n      <td>619</td>\n    </tr>\n    <tr>\n      <th>3</th>\n      <td>ZIP Code 91903</td>\n      <td>P.O. Box</td>\n      <td>Alpine</td>\n      <td>0</td>\n      <td>Pacific</td>\n      <td>619</td>\n    </tr>\n    <tr>\n      <th>4</th>\n      <td>ZIP Code 91905</td>\n      <td>General</td>\n      <td>Boulevard</td>\n      <td>1700</td>\n      <td>Pacific</td>\n      <td>619/760</td>\n    </tr>\n  </tbody>\n</table>\n</div>",
                        "text/plain": "                0               1          2           3         4  \\\n0        ZIP Code  Classification       City  Population  Timezone   \n1  ZIP Code 91901         General     Alpine       17403   Pacific   \n2  ZIP Code 91902         General     Bonita       17653   Pacific   \n3  ZIP Code 91903        P.O. Box     Alpine           0   Pacific   \n4  ZIP Code 91905         General  Boulevard        1700   Pacific   \n\n              5  \n0  Area Code(s)  \n1           619  \n2           619  \n3           619  \n4       619/760  "
                    },
                    "execution_count": 6,
                    "metadata": {},
                    "output_type": "execute_result"
                }
            ],
            "source": "html = \"https://www.zip-codes.com/county/ca-san-diego.asp\"\ncontents = requests.get(html)\n\nsoup = BeautifulSoup(contents.content, 'lxml')\n# Need to parse through DOM to know which table to scrape\ntable = soup.find_all('table')[2]\nlists = pd.read_html(str(table))\n\nwebsite_data_df = lists[0]\nprint(f'Initial size of dataframe: {website_data_df.shape}')\nwebsite_data_df.head()"
        },
        {
            "cell_type": "code",
            "execution_count": 9,
            "metadata": {},
            "outputs": [
                {
                    "name": "stdout",
                    "output_type": "stream",
                    "text": "Updated size of dataframe: (107, 6)\n"
                },
                {
                    "data": {
                        "text/html": "<div>\n<style scoped>\n    .dataframe tbody tr th:only-of-type {\n        vertical-align: middle;\n    }\n\n    .dataframe tbody tr th {\n        vertical-align: top;\n    }\n\n    .dataframe thead th {\n        text-align: right;\n    }\n</style>\n<table border=\"1\" class=\"dataframe\">\n  <thead>\n    <tr style=\"text-align: right;\">\n      <th></th>\n      <th>0</th>\n      <th>1</th>\n      <th>2</th>\n      <th>3</th>\n      <th>4</th>\n      <th>5</th>\n    </tr>\n  </thead>\n  <tbody>\n    <tr>\n      <th>0</th>\n      <td>ZIP Code</td>\n      <td>Classification</td>\n      <td>City</td>\n      <td>Population</td>\n      <td>Timezone</td>\n      <td>Area Code(s)</td>\n    </tr>\n    <tr>\n      <th>1</th>\n      <td>ZIP Code 91901</td>\n      <td>General</td>\n      <td>Alpine</td>\n      <td>17403</td>\n      <td>Pacific</td>\n      <td>619</td>\n    </tr>\n    <tr>\n      <th>2</th>\n      <td>ZIP Code 91902</td>\n      <td>General</td>\n      <td>Bonita</td>\n      <td>17653</td>\n      <td>Pacific</td>\n      <td>619</td>\n    </tr>\n    <tr>\n      <th>4</th>\n      <td>ZIP Code 91905</td>\n      <td>General</td>\n      <td>Boulevard</td>\n      <td>1700</td>\n      <td>Pacific</td>\n      <td>619/760</td>\n    </tr>\n    <tr>\n      <th>5</th>\n      <td>ZIP Code 91906</td>\n      <td>General</td>\n      <td>Campo</td>\n      <td>3627</td>\n      <td>Pacific</td>\n      <td>619</td>\n    </tr>\n  </tbody>\n</table>\n</div>",
                        "text/plain": "                0               1          2           3         4  \\\n0        ZIP Code  Classification       City  Population  Timezone   \n1  ZIP Code 91901         General     Alpine       17403   Pacific   \n2  ZIP Code 91902         General     Bonita       17653   Pacific   \n4  ZIP Code 91905         General  Boulevard        1700   Pacific   \n5  ZIP Code 91906         General      Campo        3627   Pacific   \n\n              5  \n0  Area Code(s)  \n1           619  \n2           619  \n4       619/760  \n5           619  "
                    },
                    "execution_count": 9,
                    "metadata": {},
                    "output_type": "execute_result"
                }
            ],
            "source": "no_population = website_data_df[website_data_df[3] == '0'].index\nwebsite_data_df.drop(no_population, inplace=True)\nprint(f'Updated size of dataframe: {website_data_df.shape}')\nwebsite_data_df.head()"
        },
        {
            "cell_type": "code",
            "execution_count": null,
            "metadata": {},
            "outputs": [],
            "source": ""
        }
    ],
    "metadata": {
        "kernelspec": {
            "display_name": "Python 3.6",
            "language": "python",
            "name": "python3"
        },
        "language_info": {
            "codemirror_mode": {
                "name": "ipython",
                "version": 3
            },
            "file_extension": ".py",
            "mimetype": "text/x-python",
            "name": "python",
            "nbconvert_exporter": "python",
            "pygments_lexer": "ipython3",
            "version": "3.6.9"
        }
    },
    "nbformat": 4,
    "nbformat_minor": 1
}