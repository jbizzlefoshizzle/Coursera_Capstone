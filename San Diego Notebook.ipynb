{
    "cells": [
        {
            "cell_type": "code",
            "execution_count": 1,
            "metadata": {},
            "outputs": [],
            "source": "# import dependencies\n\nimport pandas as pd\nimport numpy as np\nfrom bs4 import BeautifulSoup\nimport requests\nfrom pandas import DataFrame"
        },
        {
            "cell_type": "code",
            "execution_count": 2,
            "metadata": {},
            "outputs": [],
            "source": "html = \"https://www.zip-codes.com/county/ca-san-diego.asp\"\ncontents = requests.get(html)\n\nsoup = BeautifulSoup(contents.content, 'lxml')\n# Need to parse through DOM to know which table to scrape\ntable = soup.find_all('table')[2]\nlists = pd.read_html(str(table))"
        },
        {
            "cell_type": "code",
            "execution_count": 3,
            "metadata": {},
            "outputs": [
                {
                    "name": "stdout",
                    "output_type": "stream",
                    "text": "Initial size of dataframe: (182, 6)\n"
                },
                {
                    "data": {
                        "text/html": "<div>\n<style scoped>\n    .dataframe tbody tr th:only-of-type {\n        vertical-align: middle;\n    }\n\n    .dataframe tbody tr th {\n        vertical-align: top;\n    }\n\n    .dataframe thead th {\n        text-align: right;\n    }\n</style>\n<table border=\"1\" class=\"dataframe\">\n  <thead>\n    <tr style=\"text-align: right;\">\n      <th></th>\n      <th>ZIP Code</th>\n      <th>Classification</th>\n      <th>City</th>\n      <th>Population</th>\n      <th>Timezone</th>\n      <th>Area Code(s)</th>\n    </tr>\n  </thead>\n  <tbody>\n    <tr>\n      <th>0</th>\n      <td>ZIP Code 91901</td>\n      <td>General</td>\n      <td>Alpine</td>\n      <td>17403</td>\n      <td>Pacific</td>\n      <td>619</td>\n    </tr>\n    <tr>\n      <th>1</th>\n      <td>ZIP Code 91902</td>\n      <td>General</td>\n      <td>Bonita</td>\n      <td>17653</td>\n      <td>Pacific</td>\n      <td>619</td>\n    </tr>\n    <tr>\n      <th>2</th>\n      <td>ZIP Code 91903</td>\n      <td>P.O. Box</td>\n      <td>Alpine</td>\n      <td>0</td>\n      <td>Pacific</td>\n      <td>619</td>\n    </tr>\n    <tr>\n      <th>3</th>\n      <td>ZIP Code 91905</td>\n      <td>General</td>\n      <td>Boulevard</td>\n      <td>1700</td>\n      <td>Pacific</td>\n      <td>619/760</td>\n    </tr>\n    <tr>\n      <th>4</th>\n      <td>ZIP Code 91906</td>\n      <td>General</td>\n      <td>Campo</td>\n      <td>3627</td>\n      <td>Pacific</td>\n      <td>619</td>\n    </tr>\n  </tbody>\n</table>\n</div>",
                        "text/plain": "0        ZIP Code Classification       City Population Timezone Area Code(s)\n0  ZIP Code 91901        General     Alpine      17403  Pacific          619\n1  ZIP Code 91902        General     Bonita      17653  Pacific          619\n2  ZIP Code 91903       P.O. Box     Alpine          0  Pacific          619\n3  ZIP Code 91905        General  Boulevard       1700  Pacific      619/760\n4  ZIP Code 91906        General      Campo       3627  Pacific          619"
                    },
                    "execution_count": 3,
                    "metadata": {},
                    "output_type": "execute_result"
                }
            ],
            "source": "website_data_df = lists[0]\nprint(f'Initial size of dataframe: {website_data_df.shape}')\n# Set column headers\nwebsite_data_df.columns = website_data_df.iloc[0]\nwebsite_data_df = website_data_df.drop(0)\n# Reset index \nwebsite_data_df = website_data_df.reset_index(drop=True)\nwebsite_data_df.head()"
        },
        {
            "cell_type": "code",
            "execution_count": 4,
            "metadata": {},
            "outputs": [
                {
                    "name": "stdout",
                    "output_type": "stream",
                    "text": "Updated size of dataframe: 106 rows and 6 columns\n"
                },
                {
                    "data": {
                        "text/html": "<div>\n<style scoped>\n    .dataframe tbody tr th:only-of-type {\n        vertical-align: middle;\n    }\n\n    .dataframe tbody tr th {\n        vertical-align: top;\n    }\n\n    .dataframe thead th {\n        text-align: right;\n    }\n</style>\n<table border=\"1\" class=\"dataframe\">\n  <thead>\n    <tr style=\"text-align: right;\">\n      <th></th>\n      <th>ZIP Code</th>\n      <th>Classification</th>\n      <th>City</th>\n      <th>Population</th>\n      <th>Timezone</th>\n      <th>Area Code(s)</th>\n    </tr>\n  </thead>\n  <tbody>\n    <tr>\n      <th>0</th>\n      <td>91901</td>\n      <td>General</td>\n      <td>Alpine</td>\n      <td>17403</td>\n      <td>Pacific</td>\n      <td>619</td>\n    </tr>\n    <tr>\n      <th>1</th>\n      <td>91902</td>\n      <td>General</td>\n      <td>Bonita</td>\n      <td>17653</td>\n      <td>Pacific</td>\n      <td>619</td>\n    </tr>\n    <tr>\n      <th>3</th>\n      <td>91905</td>\n      <td>General</td>\n      <td>Boulevard</td>\n      <td>1700</td>\n      <td>Pacific</td>\n      <td>619/760</td>\n    </tr>\n    <tr>\n      <th>4</th>\n      <td>91906</td>\n      <td>General</td>\n      <td>Campo</td>\n      <td>3627</td>\n      <td>Pacific</td>\n      <td>619</td>\n    </tr>\n    <tr>\n      <th>7</th>\n      <td>91910</td>\n      <td>General</td>\n      <td>Chula Vista</td>\n      <td>75802</td>\n      <td>Pacific</td>\n      <td>619</td>\n    </tr>\n  </tbody>\n</table>\n</div>",
                        "text/plain": "0 ZIP Code Classification         City Population Timezone Area Code(s)\n0    91901        General       Alpine      17403  Pacific          619\n1    91902        General       Bonita      17653  Pacific          619\n3    91905        General    Boulevard       1700  Pacific      619/760\n4    91906        General        Campo       3627  Pacific          619\n7    91910        General  Chula Vista      75802  Pacific          619"
                    },
                    "execution_count": 4,
                    "metadata": {},
                    "output_type": "execute_result"
                }
            ],
            "source": "# Drop Zip Codes with Population 0\nno_population = website_data_df[website_data_df[\"Population\"] == '0'].index\nwebsite_data_df.drop(no_population, inplace=True)\nprint(f'Updated size of dataframe: {website_data_df.shape[0]} rows and {website_data_df.shape[1]} columns')\n# Drop \"Zip Code\" phrase in Zip Code column\nwebsite_data_df[\"ZIP Code\"] = website_data_df[\"ZIP Code\"].str[-5:]\nwebsite_data_df.head()"
        },
        {
            "cell_type": "code",
            "execution_count": 8,
            "metadata": {},
            "outputs": [],
            "source": "import geopy\nfrom geopy.geocoders import  Nominatim\n\ngeolocator = Nominatim(user_agent=\"sd_explorer\")\n\n\nlats = []\nlongs = []\n\nfor zip in website_data_df[\"ZIP Code\"]:\n    address = zip\n    location = geolocator.geocode(address)\n    latitude = location.latitude\n    longitude = location.longitude\n    lats.append(latitude)\n    longs.append(longitude)\n\n"
        },
        {
            "cell_type": "code",
            "execution_count": 12,
            "metadata": {},
            "outputs": [],
            "source": "website_data_df[\"Latitude\"] = lats\nwebsite_data_df[\"Longitude\"] = longs"
        },
        {
            "cell_type": "code",
            "execution_count": 13,
            "metadata": {},
            "outputs": [
                {
                    "data": {
                        "text/html": "<div>\n<style scoped>\n    .dataframe tbody tr th:only-of-type {\n        vertical-align: middle;\n    }\n\n    .dataframe tbody tr th {\n        vertical-align: top;\n    }\n\n    .dataframe thead th {\n        text-align: right;\n    }\n</style>\n<table border=\"1\" class=\"dataframe\">\n  <thead>\n    <tr style=\"text-align: right;\">\n      <th></th>\n      <th>ZIP Code</th>\n      <th>Classification</th>\n      <th>City</th>\n      <th>Population</th>\n      <th>Timezone</th>\n      <th>Area Code(s)</th>\n      <th>Latitude</th>\n      <th>Longitude</th>\n    </tr>\n  </thead>\n  <tbody>\n    <tr>\n      <th>0</th>\n      <td>91901</td>\n      <td>General</td>\n      <td>Alpine</td>\n      <td>17403</td>\n      <td>Pacific</td>\n      <td>619</td>\n      <td>48.414003</td>\n      <td>17.491107</td>\n    </tr>\n    <tr>\n      <th>1</th>\n      <td>91902</td>\n      <td>General</td>\n      <td>Bonita</td>\n      <td>17653</td>\n      <td>Pacific</td>\n      <td>619</td>\n      <td>32.666379</td>\n      <td>-117.022725</td>\n    </tr>\n    <tr>\n      <th>3</th>\n      <td>91905</td>\n      <td>General</td>\n      <td>Boulevard</td>\n      <td>1700</td>\n      <td>Pacific</td>\n      <td>619/760</td>\n      <td>32.662786</td>\n      <td>-116.312998</td>\n    </tr>\n    <tr>\n      <th>4</th>\n      <td>91906</td>\n      <td>General</td>\n      <td>Campo</td>\n      <td>3627</td>\n      <td>Pacific</td>\n      <td>619</td>\n      <td>32.662692</td>\n      <td>-116.481502</td>\n    </tr>\n    <tr>\n      <th>7</th>\n      <td>91910</td>\n      <td>General</td>\n      <td>Chula Vista</td>\n      <td>75802</td>\n      <td>Pacific</td>\n      <td>619</td>\n      <td>48.534285</td>\n      <td>2.181133</td>\n    </tr>\n  </tbody>\n</table>\n</div>",
                        "text/plain": "0 ZIP Code Classification         City Population Timezone Area Code(s)  \\\n0    91901        General       Alpine      17403  Pacific          619   \n1    91902        General       Bonita      17653  Pacific          619   \n3    91905        General    Boulevard       1700  Pacific      619/760   \n4    91906        General        Campo       3627  Pacific          619   \n7    91910        General  Chula Vista      75802  Pacific          619   \n\n0   Latitude   Longitude  \n0  48.414003   17.491107  \n1  32.666379 -117.022725  \n3  32.662786 -116.312998  \n4  32.662692 -116.481502  \n7  48.534285    2.181133  "
                    },
                    "execution_count": 13,
                    "metadata": {},
                    "output_type": "execute_result"
                }
            ],
            "source": "website_data_df.head()"
        },
        {
            "cell_type": "code",
            "execution_count": 14,
            "metadata": {},
            "outputs": [
                {
                    "name": "stdout",
                    "output_type": "stream",
                    "text": "Solving environment: done\n\n## Package Plan ##\n\n  environment location: /opt/conda/envs/Python36\n\n  added / updated specs: \n    - folium=0.5.0\n\n\nThe following packages will be downloaded:\n\n    package                    |            build\n    ---------------------------|-----------------\n    ca-certificates-2020.6.20  |       hecda079_0         145 KB  conda-forge\n    altair-4.1.0               |             py_1         614 KB  conda-forge\n    certifi-2020.6.20          |   py36h9f0ad1d_0         151 KB  conda-forge\n    vincent-0.4.4              |             py_1          28 KB  conda-forge\n    branca-0.4.1               |             py_0          26 KB  conda-forge\n    python_abi-3.6             |          1_cp36m           4 KB  conda-forge\n    folium-0.5.0               |             py_0          45 KB  conda-forge\n    openssl-1.1.1g             |       h516909a_1         2.1 MB  conda-forge\n    ------------------------------------------------------------\n                                           Total:         3.1 MB\n\nThe following NEW packages will be INSTALLED:\n\n    altair:          4.1.0-py_1        conda-forge\n    branca:          0.4.1-py_0        conda-forge\n    folium:          0.5.0-py_0        conda-forge\n    python_abi:      3.6-1_cp36m       conda-forge\n    vincent:         0.4.4-py_1        conda-forge\n\nThe following packages will be UPDATED:\n\n    certifi:         2020.6.20-py36_0              --> 2020.6.20-py36h9f0ad1d_0 conda-forge\n    openssl:         1.1.1g-h7b6447c_0             --> 1.1.1g-h516909a_1        conda-forge\n\nThe following packages will be DOWNGRADED:\n\n    ca-certificates: 2020.6.24-0                   --> 2020.6.20-hecda079_0     conda-forge\n\n\nDownloading and Extracting Packages\nca-certificates-2020 | 145 KB    | ##################################### | 100% \naltair-4.1.0         | 614 KB    | ##################################### | 100% \ncertifi-2020.6.20    | 151 KB    | ##################################### | 100% \nvincent-0.4.4        | 28 KB     | ##################################### | 100% \nbranca-0.4.1         | 26 KB     | ##################################### | 100% \npython_abi-3.6       | 4 KB      | ##################################### | 100% \nfolium-0.5.0         | 45 KB     | ##################################### | 100% \nopenssl-1.1.1g       | 2.1 MB    | ##################################### | 100% \nPreparing transaction: done\nVerifying transaction: done\nExecuting transaction: done\n"
                }
            ],
            "source": "# Install and import folium as map rendering library\n!conda install -c conda-forge folium=0.5.0 --yes\nimport folium\n\n# Matplotlib and associated plotting modules\nimport matplotlib.cm as cm\nimport matplotlib.colors as colors\n\n# Import k-means from clustering stage from SciKit-Learn\n\nfrom sklearn.cluster import KMeans"
        },
        {
            "cell_type": "code",
            "execution_count": 16,
            "metadata": {},
            "outputs": [
                {
                    "data": {
                        "text/html": "<div style=\"width:100%;\"><div style=\"position:relative;width:100%;height:0;padding-bottom:60%;\"><span style=\"color:#565656\">Make this Notebook Trusted to load map: File -> Trust Notebook</span><iframe src=\"about:blank\" style=\"position:absolute;width:100%;height:100%;left:0;top:0;border:none !important;\" data-html=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 onload=\"this.contentDocument.open();this.contentDocument.write(atob(this.getAttribute('data-html')));this.contentDocument.close();\" allowfullscreen webkitallowfullscreen mozallowfullscreen></iframe></div></div>",
                        "text/plain": "<folium.folium.Map at 0x7efd62b08a58>"
                    },
                    "execution_count": 16,
                    "metadata": {},
                    "output_type": "execute_result"
                }
            ],
            "source": "sd_lat = 32.715736\nsd_long = -117.161087\n\nmap_sd = folium.Map(location=[sd_lat, sd_long], zoom_start = 11)\n\n# add markers to map\n\nmap_sd"
        },
        {
            "cell_type": "code",
            "execution_count": null,
            "metadata": {},
            "outputs": [],
            "source": ""
        }
    ],
    "metadata": {
        "kernelspec": {
            "display_name": "Python 3.6",
            "language": "python",
            "name": "python3"
        },
        "language_info": {
            "codemirror_mode": {
                "name": "ipython",
                "version": 3
            },
            "file_extension": ".py",
            "mimetype": "text/x-python",
            "name": "python",
            "nbconvert_exporter": "python",
            "pygments_lexer": "ipython3",
            "version": "3.6.9"
        }
    },
    "nbformat": 4,
    "nbformat_minor": 1
}