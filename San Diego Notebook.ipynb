{
    "cells": [
        {
            "cell_type": "code",
            "execution_count": 5,
            "metadata": {},
            "outputs": [],
            "source": "# import dependencies\n\nimport pandas as pd\nimport numpy as np\nfrom bs4 import BeautifulSoup\nimport requests\nfrom pandas import DataFrame"
        },
        {
            "cell_type": "code",
            "execution_count": 7,
            "metadata": {},
            "outputs": [],
            "source": "html = \"https://www.zip-codes.com/county/ca-san-diego.asp\"\ncontents = requests.get(html)\n\nsoup = BeautifulSoup(contents.content, 'lxml')\n# Need to parse through DOM to know which table to scrape\ntable = soup.find_all('table')[2]\nlists = pd.read_html(str(table))"
        },
        {
            "cell_type": "code",
            "execution_count": 12,
            "metadata": {},
            "outputs": [
                {
                    "name": "stdout",
                    "output_type": "stream",
                    "text": "Initial size of dataframe: (182, 6)\n"
                },
                {
                    "data": {
                        "text/html": "<div>\n<style scoped>\n    .dataframe tbody tr th:only-of-type {\n        vertical-align: middle;\n    }\n\n    .dataframe tbody tr th {\n        vertical-align: top;\n    }\n\n    .dataframe thead th {\n        text-align: right;\n    }\n</style>\n<table border=\"1\" class=\"dataframe\">\n  <thead>\n    <tr style=\"text-align: right;\">\n      <th></th>\n      <th>ZIP Code</th>\n      <th>Classification</th>\n      <th>City</th>\n      <th>Population</th>\n      <th>Timezone</th>\n      <th>Area Code(s)</th>\n    </tr>\n  </thead>\n  <tbody>\n    <tr>\n      <th>0</th>\n      <td>ZIP Code 91901</td>\n      <td>General</td>\n      <td>Alpine</td>\n      <td>17403</td>\n      <td>Pacific</td>\n      <td>619</td>\n    </tr>\n    <tr>\n      <th>1</th>\n      <td>ZIP Code 91902</td>\n      <td>General</td>\n      <td>Bonita</td>\n      <td>17653</td>\n      <td>Pacific</td>\n      <td>619</td>\n    </tr>\n    <tr>\n      <th>2</th>\n      <td>ZIP Code 91903</td>\n      <td>P.O. Box</td>\n      <td>Alpine</td>\n      <td>0</td>\n      <td>Pacific</td>\n      <td>619</td>\n    </tr>\n    <tr>\n      <th>3</th>\n      <td>ZIP Code 91905</td>\n      <td>General</td>\n      <td>Boulevard</td>\n      <td>1700</td>\n      <td>Pacific</td>\n      <td>619/760</td>\n    </tr>\n    <tr>\n      <th>4</th>\n      <td>ZIP Code 91906</td>\n      <td>General</td>\n      <td>Campo</td>\n      <td>3627</td>\n      <td>Pacific</td>\n      <td>619</td>\n    </tr>\n  </tbody>\n</table>\n</div>",
                        "text/plain": "0        ZIP Code Classification       City Population Timezone Area Code(s)\n0  ZIP Code 91901        General     Alpine      17403  Pacific          619\n1  ZIP Code 91902        General     Bonita      17653  Pacific          619\n2  ZIP Code 91903       P.O. Box     Alpine          0  Pacific          619\n3  ZIP Code 91905        General  Boulevard       1700  Pacific      619/760\n4  ZIP Code 91906        General      Campo       3627  Pacific          619"
                    },
                    "execution_count": 12,
                    "metadata": {},
                    "output_type": "execute_result"
                }
            ],
            "source": "website_data_df = lists[0]\nprint(f'Initial size of dataframe: {website_data_df.shape}')\n# Set column headers\nwebsite_data_df.columns = website_data_df.iloc[0]\nwebsite_data_df = website_data_df.drop(0)\n# Reset index \nwebsite_data_df = website_data_df.reset_index(drop=True)\nwebsite_data_df.head()"
        },
        {
            "cell_type": "code",
            "execution_count": 18,
            "metadata": {},
            "outputs": [
                {
                    "name": "stdout",
                    "output_type": "stream",
                    "text": "Updated size of dataframe: 106 rows and 6 columns\n"
                },
                {
                    "data": {
                        "text/html": "<div>\n<style scoped>\n    .dataframe tbody tr th:only-of-type {\n        vertical-align: middle;\n    }\n\n    .dataframe tbody tr th {\n        vertical-align: top;\n    }\n\n    .dataframe thead th {\n        text-align: right;\n    }\n</style>\n<table border=\"1\" class=\"dataframe\">\n  <thead>\n    <tr style=\"text-align: right;\">\n      <th></th>\n      <th>ZIP Code</th>\n      <th>Classification</th>\n      <th>City</th>\n      <th>Population</th>\n      <th>Timezone</th>\n      <th>Area Code(s)</th>\n    </tr>\n  </thead>\n  <tbody>\n    <tr>\n      <th>0</th>\n      <td>91901</td>\n      <td>General</td>\n      <td>Alpine</td>\n      <td>17403</td>\n      <td>Pacific</td>\n      <td>619</td>\n    </tr>\n    <tr>\n      <th>1</th>\n      <td>91902</td>\n      <td>General</td>\n      <td>Bonita</td>\n      <td>17653</td>\n      <td>Pacific</td>\n      <td>619</td>\n    </tr>\n    <tr>\n      <th>3</th>\n      <td>91905</td>\n      <td>General</td>\n      <td>Boulevard</td>\n      <td>1700</td>\n      <td>Pacific</td>\n      <td>619/760</td>\n    </tr>\n    <tr>\n      <th>4</th>\n      <td>91906</td>\n      <td>General</td>\n      <td>Campo</td>\n      <td>3627</td>\n      <td>Pacific</td>\n      <td>619</td>\n    </tr>\n    <tr>\n      <th>7</th>\n      <td>91910</td>\n      <td>General</td>\n      <td>Chula Vista</td>\n      <td>75802</td>\n      <td>Pacific</td>\n      <td>619</td>\n    </tr>\n  </tbody>\n</table>\n</div>",
                        "text/plain": "0 ZIP Code Classification         City Population Timezone Area Code(s)\n0    91901        General       Alpine      17403  Pacific          619\n1    91902        General       Bonita      17653  Pacific          619\n3    91905        General    Boulevard       1700  Pacific      619/760\n4    91906        General        Campo       3627  Pacific          619\n7    91910        General  Chula Vista      75802  Pacific          619"
                    },
                    "execution_count": 18,
                    "metadata": {},
                    "output_type": "execute_result"
                }
            ],
            "source": "# Drop Zip Codes with Population 0\nno_population = website_data_df[website_data_df[\"Population\"] == '0'].index\nwebsite_data_df.drop(no_population, inplace=True)\nprint(f'Updated size of dataframe: {website_data_df.shape[0]} rows and {website_data_df.shape[1]} columns')\n# Drop \"Zip Code\" phrase in Zip Code column\nwebsite_data_df[\"ZIP Code\"] = website_data_df[\"ZIP Code\"].str[-5:]\nwebsite_data_df.head()"
        },
        {
            "cell_type": "code",
            "execution_count": null,
            "metadata": {},
            "outputs": [],
            "source": ""
        }
    ],
    "metadata": {
        "kernelspec": {
            "display_name": "Python 3.6",
            "language": "python",
            "name": "python3"
        },
        "language_info": {
            "codemirror_mode": {
                "name": "ipython",
                "version": 3
            },
            "file_extension": ".py",
            "mimetype": "text/x-python",
            "name": "python",
            "nbconvert_exporter": "python",
            "pygments_lexer": "ipython3",
            "version": "3.6.9"
        }
    },
    "nbformat": 4,
    "nbformat_minor": 1
}